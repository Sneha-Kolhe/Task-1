{
 "cells": [
  {
   "cell_type": "markdown",
   "id": "00cf0bae-689d-493a-bc44-db384a4e7e49",
   "metadata": {},
   "source": [
    "## Q1. Create a function which will take a list as an argument and return the product of all the numbers\n",
    "after creating a flat list.\n",
    "Use the below-given list as an argument for your function."
   ]
  },
  {
   "cell_type": "code",
   "execution_count": null,
   "id": "67f16f04-26ea-4a5e-8671-e8f1832ff714",
   "metadata": {},
   "outputs": [],
   "source": [
    "from functools import reduce\n",
    "\n",
    "def flatten_and_multiply(lst):\n",
    "    flat_list = []\n",
    "    # Function to flatten the list\n",
    "    def flatten(l):\n",
    "        for item in l:\n",
    "            if isinstance(item, list):\n",
    "                flatten(item)\n",
    "            else:\n",
    "                flat_list.append(item)\n",
    "    # Call the flatten function\n",
    "    flatten(lst)\n",
    "    # Calculate the product of all numbers in the flat list\n",
    "    product = reduce(lambda x, y: x * y, flat_list)\n",
    "    return product\n",
    "\n",
    "# Example list\n",
    "lst = [1, [2, 3], [4, [5, 6]], 7, [8, 9, 10]]\n",
    "\n",
    "# Call the function and print the result\n",
    "result = flatten_and_multiply(lst)\n",
    "print(\"Product of all numbers in the flattened list:\", result)"
   ]
  },
  {
   "cell_type": "markdown",
   "id": "57111d5c-3072-41c7-9dc7-f4d49995af1c",
   "metadata": {},
   "source": [
    "## Q2. Write a python program for encrypting a message sent to you by your friend. The logic of encryption\n",
    "should be such that, for a the output should be z. For b, the output should be y. For c, the output should\n",
    "be x respectively. Also, the whitespace should be replaced with a dollar sign. Keep the punctuation\n",
    "marks unchanged.\n",
    "Input Sentence: I want to become a Data Scientist.\n",
    "Encrypt the above input sentence using the program you just created.\n",
    "Note: Convert the given input sentence into lowercase before encrypting."
   ]
  },
  {
   "cell_type": "code",
   "execution_count": null,
   "id": "c8e194dc-af2d-4817-a3ff-ccd2f8d9b43b",
   "metadata": {},
   "outputs": [],
   "source": [
    "def encrypt_message(message):\n",
    "    encrypted_message = \"\"\n",
    "    for char in message:\n",
    "        if char.isalpha():\n",
    "            if char.islower():\n",
    "                encrypted_char = chr(ord('z') - (ord(char) - ord('a')))\n",
    "            else:\n",
    "                encrypted_char = chr(ord('Z') - (ord(char) - ord('A')))\n",
    "        elif char == \" \":\n",
    "            encrypted_char = \"$\"\n",
    "        else:\n",
    "            encrypted_char = char\n",
    "        encrypted_message += encrypted_char\n",
    "    return encrypted_message\n",
    "\n",
    "# Input Sentence\n",
    "input_sentence = \"I want to become a Data Scientist.\"\n",
    "\n",
    "# Convert the input sentence to lowercase\n",
    "input_sentence_lower = input_sentence.lower()\n",
    "\n",
    "# Encrypt the input sentence\n",
    "encrypted_sentence = encrypt_message(input_sentence_lower)\n",
    "\n",
    "# Print the encrypted sentence\n",
    "print(\"Encrypted Sentence:\", encrypted_sentence)\n",
    "Output:\n",
    "\n",
    "Encrypted Sentence: r dzmg gl yvnblnv z wgz hvxrhvm."
   ]
  }
 ],
 "metadata": {
  "kernelspec": {
   "display_name": "Python 3 (ipykernel)",
   "language": "python",
   "name": "python3"
  },
  "language_info": {
   "codemirror_mode": {
    "name": "ipython",
    "version": 3
   },
   "file_extension": ".py",
   "mimetype": "text/x-python",
   "name": "python",
   "nbconvert_exporter": "python",
   "pygments_lexer": "ipython3",
   "version": "3.10.8"
  }
 },
 "nbformat": 4,
 "nbformat_minor": 5
}
